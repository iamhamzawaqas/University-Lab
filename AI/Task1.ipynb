{
 "cells": [
  {
   "cell_type": "code",
   "execution_count": null,
   "metadata": {},
   "outputs": [],
   "source": [
    "i = 10\n",
    "print(\"The data type of i is \", type(i))"
   ]
  },
  {
   "cell_type": "code",
   "execution_count": null,
   "metadata": {},
   "outputs": [],
   "source": [
    "x = 'abc'\n",
    "print(\"The data type of x is \", type(x))"
   ]
  },
  {
   "cell_type": "code",
   "execution_count": null,
   "metadata": {},
   "outputs": [],
   "source": [
    "z = 2+3j\n",
    "print(\"The data type of z is \", type(z))"
   ]
  },
  {
   "cell_type": "code",
   "execution_count": null,
   "metadata": {},
   "outputs": [],
   "source": [
    "j = 0.9\n",
    "print(\"The data type of j is \", type(j))"
   ]
  },
  {
   "cell_type": "code",
   "execution_count": null,
   "metadata": {},
   "outputs": [],
   "source": [
    "check = True\n",
    "print(\"The data type of check is \", type(check))"
   ]
  },
  {
   "cell_type": "code",
   "execution_count": null,
   "metadata": {},
   "outputs": [],
   "source": []
  },
  {
   "cell_type": "code",
   "execution_count": null,
   "metadata": {},
   "outputs": [],
   "source": [
    "num1 = input(\"Enter 1st Number = \")\n",
    "num1"
   ]
  },
  {
   "cell_type": "code",
   "execution_count": null,
   "metadata": {},
   "outputs": [],
   "source": [
    "num1 = int(num1)\n",
    "num1"
   ]
  },
  {
   "cell_type": "code",
   "execution_count": null,
   "metadata": {},
   "outputs": [],
   "source": [
    "num2 = int(input(\"Enter 2nd Number = \"))\n",
    "num2"
   ]
  },
  {
   "cell_type": "code",
   "execution_count": null,
   "metadata": {},
   "outputs": [],
   "source": [
    "add = num1 + num2\n",
    "add"
   ]
  },
  {
   "cell_type": "code",
   "execution_count": null,
   "metadata": {},
   "outputs": [],
   "source": [
    "Sub = num1 - num2\n",
    "Sub"
   ]
  },
  {
   "cell_type": "code",
   "execution_count": null,
   "metadata": {},
   "outputs": [],
   "source": [
    "Mul = num1 * num2\n",
    "Mul"
   ]
  },
  {
   "cell_type": "code",
   "execution_count": null,
   "metadata": {},
   "outputs": [],
   "source": [
    "Div = num1 / num2\n",
    "Div"
   ]
  },
  {
   "cell_type": "code",
   "execution_count": null,
   "metadata": {},
   "outputs": [],
   "source": [
    "Mod = num1%num2\n",
    "Mod"
   ]
  },
  {
   "cell_type": "code",
   "execution_count": null,
   "metadata": {},
   "outputs": [],
   "source": [
    "exp = num1**num2\n",
    "exp"
   ]
  },
  {
   "cell_type": "code",
   "execution_count": null,
   "metadata": {},
   "outputs": [],
   "source": [
    "x1 = input('Enter 1st number = ')\n",
    "y1 = input('Enter 2nd number = ')\n",
    "x=int(x1)\n",
    "y=int(y1)\n",
    "add=x+y\n",
    "sub=x-y\n",
    "mul=x*y\n",
    "div=x/y\n",
    "mod=x%y\n",
    "exp=x**y\n",
    "a=x and y\n",
    "b=x or y\n",
    "c=not x \n",
    "#print\n",
    "print(\"The addition of numbers is \",add) \n",
    "print(\"The subtraction of numbers is \", sub) \n",
    "print(\"The multiplication of numbers is \",mul) \n",
    "print(\"The division of numbers is \",div) \n",
    "print(\"The modulus of numbers is \", mod) \n",
    "print(\"The exponent of numbers is \",exp) \n",
    "print(\"The AND of numbers is \",a) \n",
    "print(\"The OR of numbers is \",b)\n",
    "print(\"The NOT of numbers is \",c)"
   ]
  },
  {
   "cell_type": "code",
   "execution_count": null,
   "metadata": {},
   "outputs": [],
   "source": [
    "longStr=input(\"Enter a long string : \")"
   ]
  },
  {
   "cell_type": "code",
   "execution_count": null,
   "metadata": {},
   "outputs": [],
   "source": [
    "longStr"
   ]
  },
  {
   "cell_type": "code",
   "execution_count": null,
   "metadata": {},
   "outputs": [],
   "source": [
    "print(f\"The length of given string is {len(longStr)} includig spaces.\")"
   ]
  },
  {
   "cell_type": "code",
   "execution_count": null,
   "metadata": {},
   "outputs": [],
   "source": [
    "print(\"The first character of the given string is \", longStr[0])"
   ]
  },
  {
   "cell_type": "code",
   "execution_count": null,
   "metadata": {},
   "outputs": [],
   "source": [
    "print(f\"The last character of the given string is {longStr[-1]}\")"
   ]
  },
  {
   "cell_type": "code",
   "execution_count": null,
   "metadata": {},
   "outputs": [],
   "source": [
    "print(f\"The given string in upper case : \\n {longStr.upper()}\")"
   ]
  },
  {
   "cell_type": "code",
   "execution_count": null,
   "metadata": {},
   "outputs": [],
   "source": [
    "print(f\"The splited string : \\n {longStr.split(' ')}\") "
   ]
  },
  {
   "cell_type": "code",
   "execution_count": null,
   "metadata": {},
   "outputs": [],
   "source": [
    "print(f\"In the given string 'a' has occured : {longStr.count('a')} \")"
   ]
  },
  {
   "cell_type": "code",
   "execution_count": null,
   "metadata": {},
   "outputs": [],
   "source": [
    "print(\"The replaced string is up: \",str.replace('!!!','Artifical'))"
   ]
  },
  {
   "cell_type": "code",
   "execution_count": null,
   "metadata": {},
   "outputs": [],
   "source": [
    "print(f\"The reversed string is : {longStr[::-1]}\")"
   ]
  },
  {
   "cell_type": "markdown",
   "metadata": {},
   "source": []
  },
  {
   "cell_type": "code",
   "execution_count": null,
   "metadata": {},
   "outputs": [],
   "source": [
    "x, y, z=input('Enter three numbers with spaces to distinguish them = ').split(' ')\n",
    "x1 = int(x)\n",
    "x2 = int(y)\n",
    "x3 = int(z)\n",
    "\n",
    "avg=(x1+x2+x3)/3\n",
    "print(\"The average of the numbers entered is = \", avg)"
   ]
  },
  {
   "cell_type": "code",
   "execution_count": null,
   "metadata": {},
   "outputs": [],
   "source": [
    "list=[1,2, 'A', 'Aqsa',3,4, 'E', 'Esha', 'Ayesha', 'Ayra']\n",
    "list"
   ]
  },
  {
   "cell_type": "code",
   "execution_count": null,
   "metadata": {},
   "outputs": [],
   "source": [
    "list[2]='B'\n",
    "\n",
    "print(\"The updated list with element of 3rd index = \",list)"
   ]
  },
  {
   "cell_type": "code",
   "execution_count": null,
   "metadata": {},
   "outputs": [],
   "source": [
    "print(\"The reversed list is :\",list[::-1])"
   ]
  },
  {
   "cell_type": "code",
   "execution_count": null,
   "metadata": {},
   "outputs": [],
   "source": [
    "list.insert(1,45)\n",
    "\n",
    "list.insert(1,66)\n",
    "\n",
    "print(\"The list after inserting elements of 2nd index is :\",list)"
   ]
  },
  {
   "cell_type": "code",
   "execution_count": null,
   "metadata": {},
   "outputs": [],
   "source": [
    "list.pop(0)\n",
    "\n",
    "print(\"The list after popping element of 1st index is :\", list)"
   ]
  },
  {
   "cell_type": "markdown",
   "metadata": {},
   "source": []
  },
  {
   "cell_type": "code",
   "execution_count": null,
   "metadata": {},
   "outputs": [],
   "source": [
    "mydict={ \"Artifical\" : \"made or produced by human beings rather than occurring naturally, especially as a copy of something\",\n",
    "        \"Intelligence\" : \"the ability to acquire and apply knowledge and skills.\",\n",
    "        2021: \"The current year\"}"
   ]
  },
  {
   "cell_type": "code",
   "execution_count": null,
   "metadata": {},
   "outputs": [],
   "source": [
    "mydict"
   ]
  },
  {
   "cell_type": "code",
   "execution_count": null,
   "metadata": {},
   "outputs": [],
   "source": [
    "print(f\"The keys in the given Dictionary are \\n {mydict.keys()}\")"
   ]
  },
  {
   "cell_type": "code",
   "execution_count": null,
   "metadata": {},
   "outputs": [],
   "source": [
    "print(f\"The values in the given Dictionary are \\n {mydict.values()}\")"
   ]
  },
  {
   "cell_type": "code",
   "execution_count": null,
   "metadata": {},
   "outputs": [],
   "source": [
    "print(\"The original dictionary is\\n\\n\", mydict)\n",
    "\n",
    "updatedict={\"Ali\": \"Height/limit/shore/Remote/Farthest\",\n",
    "            \"laboratory\":\"a room or building equipped for scientific experiments, research, or teaching, or for the manufacture of drugs or chemicals\"}\n",
    "\n",
    "print(\"\\n Inserting new key pair in dictionary \\n\\nUpdated Dictionary is \\n\")\n",
    "\n",
    "mydict.update(updatedict)\n",
    "\n",
    "print(mydict)"
   ]
  },
  {
   "cell_type": "code",
   "execution_count": null,
   "metadata": {},
   "outputs": [],
   "source": [
    "dictCopy = mydict.copy()\n",
    "\n",
    "dictCopy"
   ]
  },
  {
   "cell_type": "code",
   "execution_count": null,
   "metadata": {},
   "outputs": [],
   "source": [
    "a = 5\n",
    "b = 2\n",
    "\n",
    "if a > b:\n",
    "    print(\"a is greater then b\")\n",
    "elif b > a:\n",
    "    print(\"a is less then b\")\n",
    "else:\n",
    "    print(\"a and b are equal\")"
   ]
  },
  {
   "cell_type": "markdown",
   "metadata": {},
   "source": [
    "- Compare a and b and display weather a is greater than, less than or equal to, take values of a and b from the user"
   ]
  },
  {
   "cell_type": "code",
   "execution_count": null,
   "metadata": {},
   "outputs": [],
   "source": [
    "a = int(input(\"Enter value of a: \"))\n",
    "b = int(input(\"Enter value of b: \"))\n",
    "\n",
    "if a > b:\n",
    "    print(\"a is greater then b\")\n",
    "elif b > a:\n",
    "    print(\"a is less then b\")\n",
    "else:\n",
    "    print(\"a and b are equal\")"
   ]
  },
  {
   "cell_type": "code",
   "execution_count": null,
   "metadata": {},
   "outputs": [],
   "source": [
    "print(\"Implementing for loop :\")\n",
    "\n",
    "for i in \"PYTHON\":\n",
    "    print (i)\n",
    "\n",
    "print(\"\\n\\nRemoving Newline from print statement : \")\n",
    "\n",
    "for i in \"PYTHON\":\n",
    "    print (i,end='')\n",
    "\n",
    "print(\"\\n\\nAdding different characters/symbol in print statement: \")\n",
    "\n",
    "for i in \"PYTHON\":\n",
    "    print (i, end='*')"
   ]
  },
  {
   "cell_type": "markdown",
   "metadata": {},
   "source": [
    "- Perform the above task with list"
   ]
  },
  {
   "cell_type": "code",
   "execution_count": null,
   "metadata": {},
   "outputs": [],
   "source": [
    "list = [1,2,3,4,5,6]\n",
    "\n",
    "print(\"Implementing for loop :\")\n",
    "\n",
    "for i in list:\n",
    "    print (i)\n",
    "\n",
    "print(\"\\n\\nRemoving Newline from print statement : \")\n",
    "\n",
    "for i in list:\n",
    "    print (i,end='')\n",
    "\n",
    "print(\"\\n\\nAdding different characters/symbol in print statement: \")\n",
    "\n",
    "for i in list:\n",
    "    print (i, end='*')"
   ]
  },
  {
   "cell_type": "markdown",
   "metadata": {},
   "source": [
    "- By using for loop print counting from 1 to 10 and later change the step size."
   ]
  },
  {
   "cell_type": "code",
   "execution_count": null,
   "metadata": {},
   "outputs": [],
   "source": [
    "for i in range(1, 11):\n",
    "    print(i)\n",
    "\n",
    "print(\"\\nafter chnaging the step size to 2\\n\")\n",
    "\n",
    "for i in range(1, 11, 2):\n",
    "    print(i)\n"
   ]
  },
  {
   "cell_type": "markdown",
   "metadata": {},
   "source": [
    "- Print table of any number entered by the user by using for loop"
   ]
  },
  {
   "cell_type": "code",
   "execution_count": null,
   "metadata": {},
   "outputs": [],
   "source": [
    "a = int(input(\"Enter the number for which you want to print table: \"))\n",
    "\n",
    "for i in range(1, 11):\n",
    "    print(f\"{a}  *  {i} =  {i*a}\")"
   ]
  },
  {
   "cell_type": "markdown",
   "metadata": {},
   "source": [
    "- Print the keys of a dictionary using for loop"
   ]
  },
  {
   "cell_type": "code",
   "execution_count": null,
   "metadata": {},
   "outputs": [],
   "source": [
    "mydict={ \"Artifical\" : \"made or produced by human beings rather than occurring naturally, especially as a copy of something\",\n",
    "        \"Intelligence\" : \"the ability to acquire and apply knowledge and skills.\",\n",
    "        2021: \"The current year\"}\n",
    "\n",
    "for i in mydict:\n",
    "    print(i)"
   ]
  },
  {
   "cell_type": "markdown",
   "metadata": {},
   "source": [
    "- Print the values of a dictionary"
   ]
  },
  {
   "cell_type": "code",
   "execution_count": null,
   "metadata": {},
   "outputs": [],
   "source": [
    "mydict={ \"Artifical\" : \"made or produced by human beings rather than occurring naturally, especially as a copy of something\",\n",
    "        \"Intelligence\" : \"the ability to acquire and apply knowledge and skills.\",\n",
    "        2021: \"The current year\"}\n",
    "\n",
    "for i in mydict:\n",
    "    print(mydict[i])"
   ]
  },
  {
   "cell_type": "markdown",
   "metadata": {},
   "source": [
    "- Print complete dictionary"
   ]
  },
  {
   "cell_type": "code",
   "execution_count": null,
   "metadata": {},
   "outputs": [],
   "source": [
    "mydict={ \"Artifical\" : \"made or produced by human beings rather than occurring naturally, especially as a copy of something\",\n",
    "        \"Intelligence\" : \"the ability to acquire and apply knowledge and skills.\",\n",
    "        2021: \"The current year\"}\n",
    "\n",
    "for i in mydict:\n",
    "    print(i, \":\", mydict[i])"
   ]
  },
  {
   "cell_type": "markdown",
   "metadata": {},
   "source": [
    "- Print even numbers in the range of 1 to 100"
   ]
  },
  {
   "cell_type": "code",
   "execution_count": null,
   "metadata": {},
   "outputs": [],
   "source": [
    "for i in range(1, 101):\n",
    "    if i%2 == 0:\n",
    "        print(i, end=\",\")"
   ]
  },
  {
   "cell_type": "markdown",
   "metadata": {},
   "source": [
    "- Print even numbers amongst the range of 1 to 101 with a step size  of  5 and count them"
   ]
  },
  {
   "cell_type": "code",
   "execution_count": null,
   "metadata": {},
   "outputs": [],
   "source": [
    "count = 0\n",
    "for i in range(1, 101, 5):\n",
    "    if i%2 == 0:\n",
    "        print(i, end=\",\")\n",
    "        count +=1\n",
    "print(\"\\nthe total number is \", count)\n"
   ]
  },
  {
   "cell_type": "markdown",
   "metadata": {},
   "source": [
    "- Print a list using for loop by taking input from the user"
   ]
  },
  {
   "cell_type": "code",
   "execution_count": null,
   "metadata": {},
   "outputs": [],
   "source": [
    "lis = []\n",
    "\n",
    "for i in range(1, 4):\n",
    "    a = int(input(\"Enter the element: \"))\n",
    "    lis.append(a)\n",
    "print(lis)"
   ]
  },
  {
   "cell_type": "markdown",
   "metadata": {},
   "source": [
    "- Print counting from 1 to 10 using while loop"
   ]
  },
  {
   "cell_type": "code",
   "execution_count": null,
   "metadata": {},
   "outputs": [],
   "source": [
    "i = 0\n",
    "\n",
    "while i < 10:\n",
    "    print(i)\n",
    "    i += 1"
   ]
  },
  {
   "cell_type": "markdown",
   "metadata": {},
   "source": [
    "- Take input from user in a list and find the greatest number using while loop"
   ]
  },
  {
   "cell_type": "code",
   "execution_count": null,
   "metadata": {},
   "outputs": [],
   "source": [
    "i=0\n",
    "j=1\n",
    "lis = []\n",
    "while (i<10):\n",
    "    a=int (input(\"Enter the element : \"))\n",
    "    lis.append(a)\n",
    "\n",
    "    i=i+1\n",
    "\n",
    "print(\"The input list is \\n\", lis )\n",
    "\n",
    "maxi=lis[0]\n",
    "\n",
    "while (j<10):\n",
    "    if(maxi<lis [j]):\n",
    "        maxi=lis[j]\n",
    "    j=j+1\n",
    "\n",
    "print(\"The greatest number amongst the list is : \", maxi)\n"
   ]
  },
  {
   "cell_type": "code",
   "execution_count": null,
   "metadata": {},
   "outputs": [],
   "source": [
    "def myFunc():\n",
    "    print(\"This is my Function\")\n",
    "    "
   ]
  },
  {
   "cell_type": "code",
   "execution_count": null,
   "metadata": {},
   "outputs": [],
   "source": [
    "myFunc()"
   ]
  },
  {
   "cell_type": "code",
   "execution_count": null,
   "metadata": {},
   "outputs": [],
   "source": [
    "def addAB(a, b):\n",
    "    sum = a + b\n",
    "    return sum"
   ]
  },
  {
   "cell_type": "code",
   "execution_count": null,
   "metadata": {},
   "outputs": [],
   "source": [
    "sum = addAB(3, 5)\n",
    "print(sum)"
   ]
  },
  {
   "cell_type": "code",
   "execution_count": null,
   "metadata": {},
   "outputs": [],
   "source": [
    "def addAB(a, b):\n",
    "    return a+b"
   ]
  },
  {
   "cell_type": "code",
   "execution_count": null,
   "metadata": {},
   "outputs": [],
   "source": [
    "addAB(4, 3)"
   ]
  },
  {
   "cell_type": "code",
   "execution_count": null,
   "metadata": {},
   "outputs": [],
   "source": [
    "def addAB(a = 1, b = 1):\n",
    "    return a + b"
   ]
  },
  {
   "cell_type": "code",
   "execution_count": null,
   "metadata": {},
   "outputs": [],
   "source": [
    "addAB(a=4)"
   ]
  },
  {
   "cell_type": "code",
   "execution_count": null,
   "metadata": {},
   "outputs": [],
   "source": [
    "add = lambda x, y: x + y\n",
    "\n",
    "# Use the lambda function\n",
    "result = add(5, 3)\n",
    "print(result)"
   ]
  },
  {
   "cell_type": "code",
   "execution_count": null,
   "metadata": {},
   "outputs": [],
   "source": [
    "# Create a list of numbers\n",
    "numbers = [1, 2, 3, 4, 5]\n",
    "\n",
    "# Use map() with a lambda function to square each number\n",
    "squared_numbers = list(map(lambda x: x**2, numbers))\n",
    "\n",
    "print(squared_numbers)  \n"
   ]
  },
  {
   "cell_type": "markdown",
   "metadata": {},
   "source": []
  }
 ],
 "metadata": {
  "kernelspec": {
   "display_name": "Python 3 (ipykernel)",
   "language": "python",
   "name": "python3"
  },
  "language_info": {
   "codemirror_mode": {
    "name": "ipython",
    "version": 3
   },
   "file_extension": ".py",
   "mimetype": "text/x-python",
   "name": "python",
   "nbconvert_exporter": "python",
   "pygments_lexer": "ipython3",
   "version": "3.11.0"
  }
 },
 "nbformat": 4,
 "nbformat_minor": 2
}
