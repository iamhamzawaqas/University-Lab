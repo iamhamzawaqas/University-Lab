{
 "cells": [
  {
   "cell_type": "code",
   "execution_count": null,
   "metadata": {},
   "outputs": [],
   "source": [
    "name = \"hamza\"\n",
    "age = 20\n",
    "Frvt_colr =  \"Pink\"\n",
    "\n",
    "print(name +\" is \" + str(age) + \" and favourte colour is \" + Frvt_colr)\n"
   ]
  },
  {
   "cell_type": "code",
   "execution_count": null,
   "metadata": {},
   "outputs": [],
   "source": [
    "EnterName = input(\"Enter your name : \")\n",
    "\n",
    "print(\"HI \" + str(EnterName) + \" ! Welcome to python basic's interaction.\")"
   ]
  },
  {
   "cell_type": "code",
   "execution_count": null,
   "metadata": {},
   "outputs": [],
   "source": [
    "Quote = \"Maybe all the people who say ghosts don't exist are just afraid to admit that they do.\"\n",
    "\n",
    "print(Quote)\n",
    "print(\"The length is : \"+str(len(Quote)))"
   ]
  },
  {
   "cell_type": "code",
   "execution_count": null,
   "metadata": {},
   "outputs": [],
   "source": [
    "dict = {\"name\" : \"Syed hamza waqas\",\n",
    "        \"Age\" : \"19\",\n",
    "        \"City\" :\"ISlamabad\"}\n",
    "for value in dict.values():\n",
    "    print(value)"
   ]
  },
  {
   "cell_type": "code",
   "execution_count": null,
   "metadata": {},
   "outputs": [],
   "source": [
    "EnterAge = int(input(\"Enter Your age : \"))\n",
    "\n",
    "if EnterAge >= 18:\n",
    "    print(\"Welcome to voting system!\\nYour elegable to vote.\")\n",
    "else :\n",
    "    print(\"You are not eligible to vote.\")"
   ]
  },
  {
   "cell_type": "code",
   "execution_count": null,
   "metadata": {},
   "outputs": [],
   "source": [
    "import random\n",
    "\n",
    "#target_number = random.randint(1, 10)\n",
    "target_number = 6\n",
    "\n",
    "guessed_number = None\n",
    "\n",
    "while guessed_number != target_number:\n",
    "    try:\n",
    "        \n",
    "        guessed_number = int(input(\"Guess a number between 1 and 10: \"))\n",
    "        \n",
    "\n",
    "        if guessed_number == target_number:\n",
    "            print(f\"Congratulations! {guessed_number} is the correct number.\")\n",
    "        else:\n",
    "            print(\"Try again! That's not the correct number.\")\n",
    "    except ValueError:\n",
    "        print(\"Invalid input. Please enter a valid number between 1 and 10.\")\n",
    "\n",
    "3\n"
   ]
  },
  {
   "cell_type": "code",
   "execution_count": null,
   "metadata": {},
   "outputs": [],
   "source": [
    "def area(len, width):\n",
    "    area = len * width\n",
    "    print(\"The Area is\",area)\n",
    "\n",
    "area(12,13)\n"
   ]
  }
 ],
 "metadata": {
  "kernelspec": {
   "display_name": "Python 3",
   "language": "python",
   "name": "python3"
  },
  "language_info": {
   "codemirror_mode": {
    "name": "ipython",
    "version": 3
   },
   "file_extension": ".py",
   "mimetype": "text/x-python",
   "name": "python",
   "nbconvert_exporter": "python",
   "pygments_lexer": "ipython3",
   "version": "3.11.0"
  },
  "orig_nbformat": 4
 },
 "nbformat": 4,
 "nbformat_minor": 2
}
